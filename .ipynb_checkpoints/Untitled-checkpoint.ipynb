{
 "cells": [
  {
   "cell_type": "code",
   "execution_count": 1,
   "metadata": {},
   "outputs": [],
   "source": [
    "get_ipython().magic(u'matplotlib inline')\n",
    "get_ipython().magic(u\"config InlineBackened.figure_format = 'retina'\")\n",
    "import numpy as np\n",
    "import torch\n",
    "import helper\n",
    "import matplotlib.pyplot as plt"
   ]
  },
  {
   "cell_type": "code",
   "execution_count": 2,
   "metadata": {},
   "outputs": [
    {
     "name": "stderr",
     "output_type": "stream",
     "text": [
      "/usr/lib/python2.7/dist-packages/requests/__init__.py:80: RequestsDependencyWarning: urllib3 (1.23) or chardet (3.0.4) doesn't match a supported version!\n",
      "  RequestsDependencyWarning)\n"
     ]
    },
    {
     "name": "stdout",
     "output_type": "stream",
     "text": [
      "Downloading http://yann.lecun.com/exdb/mnist/train-images-idx3-ubyte.gz\n",
      "Downloading http://yann.lecun.com/exdb/mnist/train-labels-idx1-ubyte.gz\n",
      "Downloading http://yann.lecun.com/exdb/mnist/t10k-images-idx3-ubyte.gz\n",
      "Downloading http://yann.lecun.com/exdb/mnist/t10k-labels-idx1-ubyte.gz\n",
      "Processing...\n",
      "Done!\n"
     ]
    }
   ],
   "source": [
    "from torchvision import datasets, transforms\n",
    "# Defien a transform to normalize the data\n",
    "transform = transforms.Compose([transforms.ToTensor(), \n",
    "                               transforms.Normalize((0.5, 0.5, 0.5), (0.5, 0.5, 0.5)),\n",
    "                               ])\n",
    "# Dwonload and load the training data\n",
    "trainset = datasets.MNIST('MNIST_data/', download=True, train=True, transform=transform)\n",
    "trainloader = torch.utils.data.DataLoader(trainset, batch_size=64, shuffle=True)"
   ]
  },
  {
   "cell_type": "code",
   "execution_count": 3,
   "metadata": {},
   "outputs": [
    {
     "name": "stdout",
     "output_type": "stream",
     "text": [
      "<class 'torch.Tensor'>\n",
      "torch.Size([64, 1, 28, 28])\n",
      "torch.Size([64])\n"
     ]
    }
   ],
   "source": [
    "dataiter = iter(trainloader)\n",
    "images, labels = dataiter.next()\n",
    "print(type(images))\n",
    "print(images.shape)\n",
    "print(labels.shape)\n"
   ]
  },
  {
   "cell_type": "code",
   "execution_count": 4,
   "metadata": {},
   "outputs": [
    {
     "data": {
      "image/png": "[encoded data removed]",
      "text/plain": [
       "<Figure size 432x288 with 1 Axes>"
      ]
     },
     "metadata": {
      "needs_background": "light"
     },
     "output_type": "display_data"
    }
   ],
   "source": [
    "plt.imshow(images[1].numpy().squeeze(), cmap='Greys_r');"
   ]
  },
  {
   "cell_type": "code",
   "execution_count": 6,
   "metadata": {},
   "outputs": [
    {
     "name": "stdout",
     "output_type": "stream",
     "text": [
      "torch.Size([64, 10])\n"
     ]
    }
   ],
   "source": [
    "## the model\n",
    "def activation(x):\n",
    "    return 1/(1+torch.exp(-x))\n",
    "\n",
    "features = images.view(images.shape[0], -1)\n",
    "\n",
    "#parameters\n",
    "w1 = torch.randn(784, 256)\n",
    "b1 = torch.randn(256)\n",
    "\n",
    "w2 = torch.randn(256, 10)\n",
    "b2 = torch.randn(10)\n",
    "\n",
    "h = activation(torch.mm(features, w1)+b1)\n",
    "\n",
    "## the output of network, should have shape (64, 10)\n",
    "out = torch.mm(h, w2)+b2"
   ]
  },
  {
   "cell_type": "code",
   "execution_count": 13,
   "metadata": {},
   "outputs": [
    {
     "name": "stdout",
     "output_type": "stream",
     "text": [
      "tensor([[4.9422e-04, 1.0944e-08, 2.4231e-14, 8.1074e-10, 8.5771e-13, 2.4435e-05,\n",
      "         2.2672e-10, 3.7816e-09, 9.9948e-01, 7.8757e-12],\n",
      "        [2.9986e-03, 7.4201e-10, 9.8115e-15, 1.8034e-13, 3.9344e-11, 2.1582e-02,\n",
      "         3.7021e-12, 3.8125e-10, 9.7542e-01, 1.3463e-09],\n",
      "        [2.4490e-09, 1.2313e-10, 5.3557e-11, 6.4968e-15, 7.6030e-10, 2.4449e-09,\n",
      "         5.9060e-14, 3.0704e-08, 1.0000e+00, 2.0500e-11],\n",
      "        [4.6522e-04, 1.0001e-04, 3.3560e-14, 5.2842e-13, 2.9087e-05, 1.9074e-03,\n",
      "         1.7088e-11, 1.2402e-03, 9.9626e-01, 7.4454e-09],\n",
      "        [9.5302e-06, 1.3366e-10, 4.7507e-12, 7.5023e-13, 7.6047e-10, 1.4083e-05,\n",
      "         3.2093e-16, 8.6639e-08, 9.9998e-01, 5.0747e-09],\n",
      "        [2.2228e-04, 1.2780e-06, 3.0450e-13, 4.2835e-10, 9.3873e-06, 1.7241e-03,\n",
      "         1.1184e-09, 1.7555e-04, 9.9722e-01, 6.4315e-04],\n",
      "        [1.1137e-05, 1.9977e-03, 3.5726e-15, 3.7336e-11, 7.5114e-04, 1.2710e-05,\n",
      "         8.1165e-09, 3.3239e-06, 9.9722e-01, 6.4789e-09],\n",
      "        [8.8107e-02, 9.3053e-10, 1.0869e-14, 3.1718e-12, 7.4862e-08, 2.2362e-04,\n",
      "         3.2030e-11, 9.3906e-12, 9.1167e-01, 1.7535e-10],\n",
      "        [1.1715e-10, 6.3344e-12, 3.8237e-23, 3.9127e-16, 2.9747e-12, 3.0209e-09,\n",
      "         5.7253e-16, 3.0141e-13, 1.0000e+00, 3.2263e-15],\n",
      "        [5.2268e-09, 2.1288e-12, 1.3198e-18, 1.0849e-16, 9.8134e-08, 7.7041e-08,\n",
      "         2.6853e-13, 9.6995e-10, 1.0000e+00, 2.6614e-12],\n",
      "        [2.4653e-07, 1.8070e-11, 2.4574e-14, 7.8104e-16, 8.5529e-07, 1.6501e-05,\n",
      "         2.0050e-11, 4.3759e-09, 9.9998e-01, 2.4126e-12],\n",
      "        [2.7337e-07, 3.0605e-08, 6.6815e-08, 2.0759e-12, 5.2674e-11, 7.2018e-03,\n",
      "         2.7859e-14, 3.2346e-08, 9.9280e-01, 9.7952e-07],\n",
      "        [1.0169e-05, 6.9777e-10, 5.0973e-14, 1.9923e-11, 2.1904e-10, 3.3209e-07,\n",
      "         6.3040e-10, 2.3586e-08, 9.9999e-01, 3.3957e-07],\n",
      "        [1.3469e-05, 3.4697e-11, 8.0359e-14, 2.9552e-12, 3.4035e-11, 5.3781e-09,\n",
      "         5.3366e-15, 5.2293e-08, 9.9999e-01, 2.5626e-11],\n",
      "        [6.9474e-07, 2.2210e-06, 1.5915e-11, 1.4737e-11, 8.0925e-12, 1.9810e-04,\n",
      "         1.4967e-09, 1.1971e-07, 9.9977e-01, 2.5963e-05],\n",
      "        [2.5671e-06, 1.0550e-04, 1.0960e-06, 1.8279e-07, 1.1170e-08, 2.1613e-05,\n",
      "         9.5861e-13, 3.4906e-06, 9.9982e-01, 4.3909e-05],\n",
      "        [5.4013e-06, 3.0120e-07, 1.3161e-14, 3.6527e-09, 4.0261e-08, 5.6212e-04,\n",
      "         4.8976e-15, 1.8214e-11, 9.9943e-01, 8.6279e-09],\n",
      "        [1.4930e-05, 2.0123e-06, 2.0956e-12, 1.5240e-11, 3.1968e-14, 1.7768e-06,\n",
      "         2.3526e-11, 8.6402e-11, 9.9998e-01, 4.0796e-09],\n",
      "        [4.2130e-05, 9.0774e-10, 2.3440e-12, 8.5990e-16, 6.1179e-08, 1.0969e-05,\n",
      "         1.5290e-11, 5.0359e-09, 9.9995e-01, 1.3016e-10],\n",
      "        [2.5931e-02, 6.7963e-08, 3.0121e-14, 2.5669e-12, 2.4789e-06, 3.0256e-07,\n",
      "         8.5085e-09, 1.1523e-08, 9.7407e-01, 3.3667e-08],\n",
      "        [3.2145e-09, 1.5214e-09, 4.3487e-22, 7.1576e-13, 1.3697e-08, 6.6535e-10,\n",
      "         1.2068e-14, 2.4808e-12, 1.0000e+00, 2.3570e-14],\n",
      "        [3.0094e-08, 5.2502e-10, 2.6998e-09, 1.0522e-12, 6.2780e-12, 9.4867e-09,\n",
      "         1.4791e-17, 1.7512e-13, 1.0000e+00, 1.4356e-08],\n",
      "        [1.8725e-03, 2.2787e-05, 3.7368e-11, 2.8738e-11, 7.0342e-05, 2.9744e-06,\n",
      "         5.6048e-12, 3.8602e-09, 9.9803e-01, 4.3523e-10],\n",
      "        [2.6002e-05, 3.5539e-09, 3.4412e-13, 3.1889e-11, 1.0565e-08, 8.7517e-05,\n",
      "         4.6748e-13, 4.1098e-10, 9.9988e-01, 2.7009e-06],\n",
      "        [4.3208e-06, 1.0557e-13, 3.0101e-10, 7.7690e-15, 8.8422e-05, 1.6600e-04,\n",
      "         7.3046e-12, 4.2535e-06, 9.9974e-01, 3.2934e-11],\n",
      "        [2.0034e-04, 7.1402e-10, 6.3034e-15, 3.0943e-13, 7.9932e-12, 1.8157e-04,\n",
      "         1.5844e-14, 3.7064e-14, 9.9962e-01, 1.4800e-11],\n",
      "        [2.5782e-10, 2.1698e-12, 5.4683e-21, 4.4495e-14, 1.0432e-12, 5.5100e-08,\n",
      "         6.4815e-16, 2.8160e-15, 1.0000e+00, 5.3047e-15],\n",
      "        [4.3156e-10, 3.3949e-12, 8.9342e-16, 1.4040e-15, 2.6937e-14, 8.7511e-08,\n",
      "         1.5386e-18, 4.4505e-14, 1.0000e+00, 1.3369e-09],\n",
      "        [4.0590e-08, 1.5057e-12, 1.5260e-14, 6.8826e-16, 1.8619e-11, 1.0300e-07,\n",
      "         1.0515e-14, 4.5957e-13, 1.0000e+00, 1.8523e-13],\n",
      "        [5.9679e-07, 3.3638e-07, 1.6450e-08, 1.0321e-09, 2.4067e-08, 1.5669e-09,\n",
      "         3.2817e-11, 1.5508e-06, 1.0000e+00, 7.2605e-08],\n",
      "        [4.6871e-05, 2.7149e-10, 6.9321e-17, 1.8261e-13, 3.8497e-06, 7.9467e-08,\n",
      "         1.0768e-11, 2.2548e-08, 9.9995e-01, 9.6492e-10],\n",
      "        [4.0151e-09, 2.5327e-10, 9.1584e-17, 2.1177e-12, 9.1751e-10, 5.8869e-10,\n",
      "         4.9584e-12, 2.1341e-11, 1.0000e+00, 1.1470e-10],\n",
      "        [5.3786e-07, 2.9536e-09, 3.3996e-09, 2.4910e-12, 2.2475e-08, 2.4442e-05,\n",
      "         1.7210e-13, 2.5119e-12, 9.9997e-01, 7.9453e-08],\n",
      "        [2.5570e-16, 3.0234e-18, 2.3336e-23, 1.1712e-13, 1.6261e-14, 7.4283e-14,\n",
      "         1.2322e-19, 1.8028e-17, 1.0000e+00, 3.0967e-12],\n",
      "        [2.0335e-09, 1.0604e-04, 2.3953e-10, 4.3911e-10, 3.8443e-08, 3.0332e-07,\n",
      "         1.9357e-13, 3.6427e-09, 9.9986e-01, 3.3746e-05],\n",
      "        [2.7168e-12, 2.4990e-16, 6.3253e-17, 6.5564e-20, 1.9695e-15, 9.4476e-10,\n",
      "         3.6121e-21, 9.8459e-14, 1.0000e+00, 7.6174e-12],\n",
      "        [3.8433e-07, 6.4841e-10, 6.7090e-10, 9.1326e-10, 8.6016e-10, 1.8026e-01,\n",
      "         1.8545e-11, 1.0828e-10, 8.1974e-01, 3.1677e-08],\n",
      "        [6.5318e-05, 5.8886e-05, 8.5810e-07, 1.8541e-08, 3.2079e-07, 7.3489e-05,\n",
      "         3.7303e-12, 1.9169e-08, 9.8219e-01, 1.7606e-02],\n",
      "        [5.2490e-04, 5.0783e-07, 1.9860e-09, 7.1421e-13, 1.5339e-06, 5.9343e-04,\n",
      "         2.0978e-12, 3.7144e-05, 9.9884e-01, 1.6150e-09],\n",
      "        [2.5603e-03, 1.6319e-10, 3.2171e-13, 7.1610e-15, 2.5612e-10, 1.2373e-02,\n",
      "         3.9298e-13, 8.5070e-06, 9.8506e-01, 1.4211e-10],\n",
      "        [3.6994e-05, 1.5519e-12, 9.1210e-16, 2.5157e-15, 1.7710e-13, 4.2990e-09,\n",
      "         6.4695e-15, 1.1401e-13, 9.9996e-01, 2.5972e-14],\n",
      "        [4.3068e-02, 2.3811e-04, 7.8042e-14, 5.7735e-11, 5.7097e-04, 2.8213e-04,\n",
      "         7.7152e-12, 1.1765e-10, 9.5584e-01, 7.4662e-08],\n",
      "        [1.4532e-02, 1.5302e-06, 1.5212e-08, 4.1341e-08, 2.9873e-07, 1.1159e-01,\n",
      "         6.2571e-13, 5.8508e-04, 8.7241e-01, 8.7577e-04],\n",
      "        [9.7933e-06, 1.3805e-09, 2.2983e-09, 1.1961e-10, 8.4629e-10, 7.0508e-05,\n",
      "         1.9408e-14, 9.2672e-06, 9.9991e-01, 3.7596e-07],\n",
      "        [9.8934e-01, 2.5199e-08, 3.0040e-13, 4.7220e-10, 2.7426e-07, 8.5914e-08,\n",
      "         2.2243e-13, 4.6817e-07, 1.0656e-02, 4.6266e-07],\n",
      "        [8.0829e-06, 1.2852e-05, 2.3378e-10, 4.6550e-10, 6.0208e-09, 7.0102e-03,\n",
      "         7.9613e-15, 7.2689e-13, 9.9284e-01, 1.2979e-04],\n",
      "        [1.0049e-03, 2.7499e-05, 7.9274e-14, 3.3376e-09, 1.3551e-11, 3.8067e-05,\n",
      "         2.1780e-09, 4.4845e-10, 9.9893e-01, 1.1513e-10],\n",
      "        [7.5623e-05, 4.3696e-09, 7.2924e-14, 9.6328e-11, 3.5743e-09, 4.0871e-04,\n",
      "         1.8054e-09, 2.6397e-06, 9.9951e-01, 1.9900e-07],\n",
      "        [9.8865e-03, 4.4494e-10, 6.2421e-16, 4.6895e-16, 6.5664e-09, 5.1021e-06,\n",
      "         4.0047e-11, 2.4781e-10, 9.9011e-01, 6.0140e-10],\n",
      "        [1.0027e-02, 1.2323e-09, 4.4054e-10, 2.0419e-06, 2.3839e-06, 2.7359e-03,\n",
      "         9.7488e-12, 2.0546e-07, 9.8723e-01, 1.1502e-09],\n",
      "        [3.4426e-06, 1.4498e-09, 1.5983e-12, 2.0542e-11, 1.7254e-09, 4.4346e-05,\n",
      "         2.4565e-13, 6.7082e-10, 9.9995e-01, 7.5159e-11],\n",
      "        [1.5139e-07, 6.8384e-08, 8.4589e-16, 4.7031e-10, 9.3586e-11, 4.1422e-07,\n",
      "         2.3499e-15, 2.0628e-07, 1.0000e+00, 5.5391e-09],\n",
      "        [4.6920e-14, 2.1293e-12, 4.5707e-19, 3.8349e-15, 1.2435e-11, 3.8310e-10,\n",
      "         1.6497e-18, 9.8645e-12, 1.0000e+00, 1.6820e-12],\n",
      "        [5.0233e-05, 2.4148e-08, 1.0777e-13, 7.0348e-14, 9.9553e-09, 1.1294e-07,\n",
      "         4.1587e-11, 2.0292e-11, 9.9995e-01, 1.1151e-10],\n",
      "        [1.2430e-12, 2.6151e-14, 1.3229e-19, 7.4056e-13, 2.6532e-12, 1.6521e-10,\n",
      "         6.3606e-16, 1.2637e-15, 1.0000e+00, 5.8441e-14],\n",
      "        [2.7375e-11, 2.4446e-07, 4.5691e-14, 7.9910e-13, 7.6338e-07, 3.5393e-06,\n",
      "         1.4436e-11, 2.0844e-07, 1.0000e+00, 7.2865e-10],\n",
      "        [5.4011e-08, 8.3576e-11, 9.1718e-15, 1.8260e-08, 1.7364e-09, 1.4317e-08,\n",
      "         7.6470e-13, 4.3554e-10, 1.0000e+00, 3.1667e-12],\n",
      "        [3.7063e-03, 1.4073e-09, 1.2378e-09, 3.8370e-11, 3.0357e-09, 9.9355e-03,\n",
      "         1.1261e-10, 1.8975e-09, 9.8636e-01, 1.4038e-10],\n",
      "        [3.4995e-02, 1.3754e-06, 5.3707e-13, 2.9571e-11, 5.3859e-08, 5.1586e-05,\n",
      "         3.2401e-11, 3.2405e-07, 9.6495e-01, 6.7107e-06],\n",
      "        [5.3914e-10, 5.5511e-10, 5.0387e-15, 5.7107e-14, 1.8602e-08, 4.6629e-09,\n",
      "         7.6459e-16, 8.1182e-09, 1.0000e+00, 1.7253e-10],\n",
      "        [1.8001e-06, 2.1051e-06, 3.6538e-14, 1.2586e-11, 2.6460e-06, 3.1360e-11,\n",
      "         5.3286e-12, 3.1659e-06, 9.9999e-01, 1.4712e-11],\n",
      "        [7.9029e-07, 6.2560e-08, 6.6053e-14, 8.3415e-15, 1.3435e-09, 5.2389e-09,\n",
      "         2.5587e-14, 1.7894e-13, 1.0000e+00, 5.2254e-11],\n",
      "        [2.2145e-10, 3.5824e-11, 5.3499e-13, 3.7271e-14, 1.4597e-06, 2.9612e-04,\n",
      "         6.7032e-16, 1.5735e-11, 9.9970e-01, 7.8857e-12],\n",
      "        [1.1406e-05, 2.9702e-07, 1.2256e-08, 2.6700e-11, 7.6069e-11, 1.2063e-05,\n",
      "         6.7125e-12, 3.5108e-09, 9.9998e-01, 2.4634e-09]])\n",
      "tensor([1.0000, 1.0000, 1.0000, 1.0000, 1.0000, 1.0000, 1.0000, 1.0000, 1.0000,\n",
      "        1.0000, 1.0000, 1.0000, 1.0000, 1.0000, 1.0000, 1.0000, 1.0000, 1.0000,\n",
      "        1.0000, 1.0000, 1.0000, 1.0000, 1.0000, 1.0000, 1.0000, 1.0000, 1.0000,\n",
      "        1.0000, 1.0000, 1.0000, 1.0000, 1.0000, 1.0000, 1.0000, 1.0000, 1.0000,\n",
      "        1.0000, 1.0000, 1.0000, 1.0000, 1.0000, 1.0000, 1.0000, 1.0000, 1.0000,\n",
      "        1.0000, 1.0000, 1.0000, 1.0000, 1.0000, 1.0000, 1.0000, 1.0000, 1.0000,\n",
      "        1.0000, 1.0000, 1.0000, 1.0000, 1.0000, 1.0000, 1.0000, 1.0000, 1.0000,\n",
      "        1.0000])\n"
     ]
    }
   ],
   "source": [
    "def softmax(x):\n",
    "    b = torch.exp(x)\n",
    "    sum = torch.sum(b, dim=1)\n",
    "    d = sum.view(-1, 1)\n",
    "    return (b/d)\n",
    "\n",
    "probability = softmax(out)\n",
    "print (probability.sum(dim=1))"
   ]
  },
  {
   "cell_type": "code",
   "execution_count": null,
   "metadata": {},
   "outputs": [],
   "source": [
    "from torch import nn"
   ]
  },
  {
   "cell_type": "code",
   "execution_count": null,
   "metadata": {},
   "outputs": [],
   "source": [
    "class Network(nn.module):\n",
    "    def __init__(self):\n",
    "        super().__init__()\n",
    "        self.hidden = nn.Linear(784, 256)\n",
    "        # Output layer, 10 units one for each digit\n",
    "        self.output = nn.Linear(256, 10)\n",
    "        # Define sigmoid activation function and softmax output\n",
    "        self.sigmoid = nn.Sigmoid()\n",
    "        self.softmax = nn.Softmax(dim=1)\n",
    "        \n",
    "    def forward(self, x):\n",
    "        x = self.hidden(x)\n",
    "        x = self.sigmoid(x)\n",
    "        x = self.output(x)\n",
    "        x = self.softmax(x)\n",
    "        \n",
    "        return x\n",
    "        "
   ]
  }
 ],
 "metadata": {
  "kernelspec": {
   "display_name": "Python 2",
   "language": "python",
   "name": "python2"
  },
  "language_info": {
   "codemirror_mode": {
    "name": "ipython",
    "version": 2
   },
   "file_extension": ".py",
   "mimetype": "text/x-python",
   "name": "python",
   "nbconvert_exporter": "python",
   "pygments_lexer": "ipython2",
   "version": "2.7.15rc1"
  }
 },
 "nbformat": 4,
 "nbformat_minor": 2
}

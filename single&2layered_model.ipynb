{
 "cells": [
  {
   "cell_type": "code",
   "execution_count": 2,
   "metadata": {},
   "outputs": [],
   "source": [
    "import torch"
   ]
  },
  {
   "cell_type": "code",
   "execution_count": 3,
   "metadata": {},
   "outputs": [],
   "source": [
    "def activation(x):\n",
    "    return 1/(1+torch.exp(-x))"
   ]
  },
  {
   "cell_type": "code",
   "execution_count": 5,
   "metadata": {},
   "outputs": [],
   "source": [
    "###Genrate some data\n",
    "torch.manual_seed(7) # set random seed for predictable things\n",
    "\n",
    "# Features are 5 random\n",
    "features = torch.randn((1, 5))\n",
    "# True wights for our data, random normal variables again\n",
    "weights = torch.randn_like(features)\n",
    "# and a bias term\n",
    "bias = torch.randn((1, 1))"
   ]
  },
  {
   "cell_type": "code",
   "execution_count": 11,
   "metadata": {},
   "outputs": [
    {
     "name": "stdout",
     "output_type": "stream",
     "text": [
      "tensor([[0.1595]])\n",
      "tensor(0.1595)\n"
     ]
    }
   ],
   "source": [
    "y = activation(torch.sum(features*weights)+bias)\n",
    "print(y)\n",
    "y = activation(torch.sum(torch.mm(features, weights.view(5, 1))+bias))\n",
    "print(y)"
   ]
  },
  {
   "cell_type": "code",
   "execution_count": 13,
   "metadata": {},
   "outputs": [
    {
     "name": "stdout",
     "output_type": "stream",
     "text": [
      "tensor([[0.6364]])\n"
     ]
    }
   ],
   "source": [
    "### the smae implementation for multi(two) layer model\n",
    "torch.manual_seed(7)\n",
    "features2 = torch.randn((1, 3))\n",
    "\n",
    "# Define the size of each layer in our network\n",
    "n_input = features2.shape[1]\n",
    "n_hidden = 2\n",
    "n_output = 1\n",
    "\n",
    "# Wights for input to hidden layer\n",
    "W1 = torch.randn(n_input, n_hidden)\n",
    "# weights for hidden layer to outpit layer\n",
    "W2 = torch.randn(n_hidden, n_output)\n",
    "\n",
    "#and bias terms for hidden and output layers\n",
    "B1 = torch.randn((1, n_hidden))\n",
    "B2 = torch.randn((1, n_output))\n",
    "y1 = activation(torch.sum(n_input*W1)+B1)\n",
    "y2 = activation(torch.sum(y*n_hidden)+B2)\n",
    "print(y2)"
   ]
  },
  {
   "cell_type": "code",
   "execution_count": null,
   "metadata": {},
   "outputs": [],
   "source": []
  }
 ],
 "metadata": {
  "kernelspec": {
   "display_name": "Python 2",
   "language": "python",
   "name": "python2"
  },
  "language_info": {
   "codemirror_mode": {
    "name": "ipython",
    "version": 2
   },
   "file_extension": ".py",
   "mimetype": "text/x-python",
   "name": "python",
   "nbconvert_exporter": "python",
   "pygments_lexer": "ipython2",
   "version": "2.7.15rc1"
  }
 },
 "nbformat": 4,
 "nbformat_minor": 2
}
